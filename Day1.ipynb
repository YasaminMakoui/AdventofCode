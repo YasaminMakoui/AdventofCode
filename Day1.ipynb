{
 "cells": [
  {
   "cell_type": "code",
   "execution_count": 66,
   "metadata": {},
   "outputs": [
    {
     "name": "stdout",
     "output_type": "stream",
     "text": [
      "71506\n"
     ]
    }
   ],
   "source": [
    "\n",
    "with open (\"C:\\\\Users\\\\Windows 10 1709 UEFI\\\\Desktop\\\\input.txt\", \"r\") as file:\n",
    "    line_list = file.readlines()\n",
    "    line_list = [item.rstrip() for item in line_list]\n",
    "#print(line_list)\n",
    "calories=[]\n",
    "sum=0\n",
    "for item in line_list:\n",
    "    if item !=\"\":\n",
    "        sum += int(item)\n",
    "        calories.append(sum)\n",
    "    elif item==\"\":\n",
    "        sum = 0\n",
    "        calories.append(sum)\n",
    "        \n",
    "print(max(calories))\n",
    "\n",
    "\n",
    "\n"
   ]
  }
 ],
 "metadata": {
  "kernelspec": {
   "display_name": "Python 3",
   "language": "python",
   "name": "python3"
  },
  "language_info": {
   "codemirror_mode": {
    "name": "ipython",
    "version": 3
   },
   "file_extension": ".py",
   "mimetype": "text/x-python",
   "name": "python",
   "nbconvert_exporter": "python",
   "pygments_lexer": "ipython3",
   "version": "3.10.6 (tags/v3.10.6:9c7b4bd, Aug  1 2022, 21:53:49) [MSC v.1932 64 bit (AMD64)]"
  },
  "orig_nbformat": 4,
  "vscode": {
   "interpreter": {
    "hash": "67e3370521231d4f42a4ed3e2549544efc46c68e5010e0c1c45dc1b895d9b2c4"
   }
  }
 },
 "nbformat": 4,
 "nbformat_minor": 2
}
